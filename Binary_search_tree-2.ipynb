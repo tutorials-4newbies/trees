{
 "cells": [
  {
   "cell_type": "markdown",
   "metadata": {},
   "source": [
    "## Binary Search tree\n",
    "\n",
    "> Binary Search Tree is a node-based binary tree data structure which has the following properties:  \n",
    "> * The left subtree of a node contains only nodes with keys lesser than the node’s key.\n",
    "> * The right subtree of a node contains only nodes with keys greater than the node’s key.\n",
    "> * The left and right subtree each must also be a binary search tree. \n",
    "> * There must be no duplicate nodes. \n",
    "> from [wikipedia](https://en.wikipedia.org/wiki/Binary_search_tree)\n",
    "\n",
    "![](https://media.geeksforgeeks.org/wp-content/uploads/BSTSearch.png)"
   ]
  },
  {
   "cell_type": "code",
   "execution_count": null,
   "metadata": {},
   "outputs": [],
   "source": [
    "# Hints here: https://www.geeksforgeeks.org/binary-search-tree-set-1-search-and-insertion/"
   ]
  },
  {
   "cell_type": "code",
   "execution_count": 1,
   "metadata": {},
   "outputs": [],
   "source": [
    "# Finding a path from root to node\n",
    "# If no node with value is found then return empty [] ,else return the node values from root to the node\n",
    "\n",
    "class Node:\n",
    "    def __init__(self,  cargo: int, left = None, right = None):\n",
    "        self.cargo = cargo\n",
    "        self.right = right\n",
    "        self.left = left\n",
    "        \n",
    "    def insert(self, cargo):\n",
    "        if cargo < self.cargo:\n",
    "            if self.left:\n",
    "                self.left.insert(cargo)\n",
    "            else:\n",
    "                self.left = Node(cargo)\n",
    "        elif cargo > self.cargo:\n",
    "            if self.right:\n",
    "                self.right.insert(cargo)\n",
    "            else:\n",
    "                self.right = Node(cargo)\n",
    "    \n",
    "    def print(self):\n",
    "        pass\n",
    "        \n",
    "    def min(self):\n",
    "        pass\n",
    "    \n",
    "    def max(self):\n",
    "        pass\n",
    "    \n",
    "    def find(self, value):\n",
    "        # Return -1 if didn't find, else return the relevant Node instance\n",
    "        pass\n",
    "    \n",
    "    def path(self, value):\n",
    "        # return list of cargo until the value\n",
    "        pass"
   ]
  },
  {
   "cell_type": "code",
   "execution_count": 2,
   "metadata": {},
   "outputs": [],
   "source": [
    "tree = Node(50)\n",
    "tree.insert(30)\n",
    "tree.insert(20)\n",
    "tree.insert(40)\n",
    "tree.insert(70)\n",
    "tree.insert(60)\n",
    "tree.insert(80)\n",
    "assert tree.path(80) == [50, 70, 80]"
   ]
  },
  {
   "cell_type": "markdown",
   "metadata": {},
   "source": [
    "### Implementing tree delete\n",
    "\n",
    "Delete is trickier then the rest\n",
    "* if the node is a *leaf* (no children) - we can just remove it\n",
    "\n",
    "<pre>\n",
    "              50                            50\n",
    "           /     \\         delete(20)      /   \\\n",
    "          30      70       ---------&gt;    30     70 \n",
    "         /  \\    /  \\                     \\    /  \\ \n",
    "       20   40  60   80                   40  60   80\n",
    "</pre>\n",
    "\n",
    "\n"
   ]
  },
  {
   "cell_type": "markdown",
   "metadata": {},
   "source": [
    "* if it has only one child, then the child replaces ot\n",
    "\n",
    "<pre>\n",
    "              50                            50\n",
    "           /     \\         delete(30)      /   \\\n",
    "          30      70       ---------&gt;    40     70 \n",
    "            \\    /  \\                          /  \\ \n",
    "            40  60   80                       60   80\n",
    "</pre>"
   ]
  },
  {
   "cell_type": "markdown",
   "metadata": {},
   "source": [
    "### Implementing tree delete - two children scenario\n",
    "\n",
    "* if it has two children, we need to get the nearest children from one side (doesn't really matter which, as long as we are consistent) and then remove it\n",
    "\n",
    "see [example](https://www.geeksforgeeks.org/binary-search-tree-set-2-delete/)\n",
    "\n",
    "<pre>\n",
    "              50                            60\n",
    "           /     \\         delete(50)      /   \\\n",
    "          40      70       ---------&gt;    40    70 \n",
    "                 /  \\                            \\ \n",
    "                60   80                           80\n",
    "</pre>"
   ]
  },
  {
   "cell_type": "code",
   "execution_count": 3,
   "metadata": {},
   "outputs": [
    {
     "data": {
      "text/plain": [
       "60"
      ]
     },
     "execution_count": 3,
     "metadata": {},
     "output_type": "execute_result"
    }
   ],
   "source": [
    "# So, let's implement delete\n",
    "class Node:\n",
    "    def __init__(self,  cargo: int, left = None, right = None):\n",
    "        self.cargo = cargo\n",
    "        self.right = right\n",
    "        self.left = left\n",
    "        \n",
    "    def insert(self, cargo):\n",
    "        if cargo < self.cargo:\n",
    "            if self.left:\n",
    "                self.left.insert(cargo)\n",
    "            else:\n",
    "                self.left = Node(cargo)\n",
    "        elif cargo > self.cargo:\n",
    "            if self.right:\n",
    "                self.right.insert(cargo)\n",
    "            else:\n",
    "                self.right = Node(cargo)\n",
    "        \n",
    "    def delete(self, cargo_to_delete):\n",
    "        pass\n",
    "    \n",
    "    def min(self):\n",
    "        # Without using the python min function\n",
    "        if self.left:\n",
    "            return self.left.min()\n",
    "        else:\n",
    "            return self.cargo\n",
    "        \n",
    "        \n"
   ]
  },
  {
   "cell_type": "code",
   "execution_count": 5,
   "metadata": {},
   "outputs": [
    {
     "ename": "AssertionError",
     "evalue": "",
     "output_type": "error",
     "traceback": [
      "\u001b[0;31m---------------------------------------------------------------------------\u001b[0m",
      "\u001b[0;31mAssertionError\u001b[0m                            Traceback (most recent call last)",
      "\u001b[0;32m<ipython-input-5-1326e1edbf89>\u001b[0m in \u001b[0;36m<module>\u001b[0;34m\u001b[0m\n\u001b[1;32m     10\u001b[0m \u001b[0;32massert\u001b[0m \u001b[0mtree\u001b[0m\u001b[0;34m.\u001b[0m\u001b[0mleft\u001b[0m\u001b[0;34m.\u001b[0m\u001b[0mleft\u001b[0m\u001b[0;34m.\u001b[0m\u001b[0mcargo\u001b[0m \u001b[0;34m==\u001b[0m \u001b[0;36m20\u001b[0m\u001b[0;34m\u001b[0m\u001b[0;34m\u001b[0m\u001b[0m\n\u001b[1;32m     11\u001b[0m \u001b[0mtree\u001b[0m\u001b[0;34m.\u001b[0m\u001b[0mdelete\u001b[0m\u001b[0;34m(\u001b[0m\u001b[0;36m20\u001b[0m\u001b[0;34m)\u001b[0m\u001b[0;34m\u001b[0m\u001b[0;34m\u001b[0m\u001b[0m\n\u001b[0;32m---> 12\u001b[0;31m \u001b[0;32massert\u001b[0m \u001b[0mtree\u001b[0m\u001b[0;34m.\u001b[0m\u001b[0mleft\u001b[0m\u001b[0;34m.\u001b[0m\u001b[0mleft\u001b[0m \u001b[0;34m==\u001b[0m \u001b[0;32mNone\u001b[0m\u001b[0;34m\u001b[0m\u001b[0;34m\u001b[0m\u001b[0m\n\u001b[0m",
      "\u001b[0;31mAssertionError\u001b[0m: "
     ]
    }
   ],
   "source": [
    "#Leaf removal\n",
    "tree = Node(50)\n",
    "tree.insert(30)\n",
    "tree.insert(20)\n",
    "tree.insert(40)\n",
    "tree.insert(70)\n",
    "tree.insert(60)\n",
    "tree.insert(80)\n",
    "\n",
    "assert tree.left.left.cargo == 20\n",
    "tree.delete(20)\n",
    "assert tree.left.left == None\n"
   ]
  },
  {
   "cell_type": "code",
   "execution_count": null,
   "metadata": {},
   "outputs": [],
   "source": [
    "#One child removal\n",
    "tree = Node(50)\n",
    "tree.insert(30)\n",
    "tree.insert(20)\n",
    "tree.insert(40)\n",
    "tree.insert(70)\n",
    "tree.insert(60)\n",
    "tree.insert(80)\n",
    "\n",
    "assert tree.left.left.cargo == 20\n",
    "tree.delete(20)\n",
    "tree.delete(30)\n",
    "assert tree.left.cargo == 40\n"
   ]
  },
  {
   "cell_type": "code",
   "execution_count": null,
   "metadata": {},
   "outputs": [],
   "source": [
    "# Two children removal\n",
    "\n",
    "tree.delete(50)\n",
    "assert tree.cargo == 60\n",
    "assert tree.right.left == None\n",
    "assert tree.right.right == 80"
   ]
  },
  {
   "cell_type": "markdown",
   "metadata": {},
   "source": [
    "## Finding lowest common ancestor (LCA)\n",
    "\n",
    "* find the paths to the two nodes\n",
    "* if one is missing the abort with -1\n",
    "* if exist iterate over the path, until it diverges"
   ]
  },
  {
   "cell_type": "code",
   "execution_count": null,
   "metadata": {},
   "outputs": [],
   "source": []
  },
  {
   "cell_type": "markdown",
   "metadata": {},
   "source": [
    "## Finding distance between to nodes\n",
    "\n",
    "* root-node1 distance + root-node2 distance - 2 * root-lca distance"
   ]
  }
 ],
 "metadata": {
  "kernelspec": {
   "display_name": "Python 3",
   "language": "python",
   "name": "python3"
  },
  "language_info": {
   "codemirror_mode": {
    "name": "ipython",
    "version": 3
   },
   "file_extension": ".py",
   "mimetype": "text/x-python",
   "name": "python",
   "nbconvert_exporter": "python",
   "pygments_lexer": "ipython3",
   "version": "3.8.1"
  }
 },
 "nbformat": 4,
 "nbformat_minor": 4
}
