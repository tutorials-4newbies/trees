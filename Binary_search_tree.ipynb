{
 "cells": [
  {
   "cell_type": "markdown",
   "metadata": {},
   "source": [
    "## Binary tree\n",
    "\n",
    "> Binary Search Tree is a node-based binary tree data structure which has the following properties:  \n",
    "> * The left subtree of a node contains only nodes with keys lesser than the node’s key.\n",
    "> * The right subtree of a node contains only nodes with keys greater than the node’s key.\n",
    "> * The left and right subtree each must also be a binary search tree. \n",
    "> * There must be no duplicate nodes. \n",
    "> from [wikipedia](https://en.wikipedia.org/wiki/Binary_search_tree)\n",
    "\n",
    "![](https://media.geeksforgeeks.org/wp-content/uploads/BSTSearch.png)"
   ]
  },
  {
   "cell_type": "code",
   "execution_count": null,
   "metadata": {},
   "outputs": [],
   "source": [
    "class Node:\n",
    "    def __init__(self,  cargo: int, left = None, right = None):\n",
    "        self.cargo = cargo\n",
    "        self.right = right\n",
    "        self.left = left\n",
    "    def print(self):\n",
    "        # Implement printing in order\n",
    "        pass"
   ]
  },
  {
   "cell_type": "code",
   "execution_count": 5,
   "metadata": {},
   "outputs": [],
   "source": [
    "# Implementing tree insert\n",
    "\n",
    "class Node:\n",
    "    def __init__(self,  cargo: int, left = None, right = None):\n",
    "        self.cargo = cargo\n",
    "        self.right = right\n",
    "        self.left = left\n",
    "    \n",
    "    def print(self):\n",
    "        pass\n",
    "        \n",
    "    def insert(self, cargo):\n",
    "        pass\n",
    "    \n",
    "tree = Node(5)\n",
    "tree.insert(3)\n",
    "tree.insert(1)\n",
    "tree.insert(9)\n",
    "\n",
    "assert tree.left.left.cargo == 1\n",
    "assert tree.left.cargo == 3\n",
    "assert tree.right.cargo == 9"
   ]
  },
  {
   "cell_type": "code",
   "execution_count": 11,
   "metadata": {},
   "outputs": [
    {
     "data": {
      "text/plain": [
       "1"
      ]
     },
     "execution_count": 11,
     "metadata": {},
     "output_type": "execute_result"
    }
   ],
   "source": [
    "# Max - \n",
    "# Hint : for a binary search tree - max is always on one side .. \n",
    "# Hint : for a binary search tree - min is always on one side .. \n",
    "\n",
    "class Node:\n",
    "    def __init__(self,  cargo: int, left = None, right = None):\n",
    "        self.cargo = cargo\n",
    "        self.right = right\n",
    "        self.left = left\n",
    "        \n",
    "    def insert(self, cargo):\n",
    "        pass\n",
    "        \n",
    "    def max(self):\n",
    "        # Without using the python max function\n",
    "        pass\n",
    "    \n",
    "    def min(self):\n",
    "        # Without using the python min function\n",
    "        pass\n",
    "\n",
    "tree = Node(5)\n",
    "tree.insert(3)\n",
    "tree.insert(1)\n",
    "tree.insert(9)\n",
    "\n",
    "tree.min()"
   ]
  },
  {
   "cell_type": "code",
   "execution_count": null,
   "metadata": {},
   "outputs": [],
   "source": [
    "# Hints here: https://www.geeksforgeeks.org/binary-search-tree-set-1-search-and-insertion/"
   ]
  },
  {
   "cell_type": "code",
   "execution_count": 14,
   "metadata": {},
   "outputs": [
    {
     "ename": "SyntaxError",
     "evalue": "invalid syntax (<ipython-input-14-28e298e1240e>, line 32)",
     "output_type": "error",
     "traceback": [
      "\u001b[0;36m  File \u001b[0;32m\"<ipython-input-14-28e298e1240e>\"\u001b[0;36m, line \u001b[0;32m32\u001b[0m\n\u001b[0;31m    assert isinstance(res, ) res.cargo == 1\u001b[0m\n\u001b[0m                             ^\u001b[0m\n\u001b[0;31mSyntaxError\u001b[0m\u001b[0;31m:\u001b[0m invalid syntax\n"
     ]
    }
   ],
   "source": [
    "# Implementing find\n",
    "\n",
    "class Node:\n",
    "    def __init__(self,  cargo: int, left = None, right = None):\n",
    "        self.cargo = cargo\n",
    "        self.right = right\n",
    "        self.left = left\n",
    "        \n",
    "    def insert(self, cargo):\n",
    "        pass\n",
    "    \n",
    "    def print(self):\n",
    "        pass\n",
    "        \n",
    "    def min(self):\n",
    "        pass\n",
    "    \n",
    "    def max(self):\n",
    "        pass\n",
    "    \n",
    "    def find(self, value):\n",
    "        # Return -1 if didn't find, else return the relevant Node instance\n",
    "        pass\n",
    "    \n",
    "# What is the complexity of find in a tree? max O(h) what is h? \n",
    "tree = Node(5)\n",
    "tree.insert(3)\n",
    "tree.insert(1)\n",
    "tree.insert(9)\n",
    "\n",
    "res = tree.find(1)\n",
    "assert isinstance(res, Node) and res.cargo == 1\n",
    "res = tree.find(7)\n",
    "assert res == -1"
   ]
  },
  {
   "cell_type": "code",
   "execution_count": null,
   "metadata": {},
   "outputs": [],
   "source": [
    "# Finding a path from root to node\n",
    "# If no node with value is found then return empty [] ,else return the node values from root to the node\n",
    "\n",
    "class Node:\n",
    "    def __init__(self,  cargo: int, left = None, right = None):\n",
    "        self.cargo = cargo\n",
    "        self.right = right\n",
    "        self.left = left\n",
    "        \n",
    "    def insert(self, cargo):\n",
    "        pass\n",
    "    \n",
    "    def print(self):\n",
    "        pass\n",
    "        \n",
    "    def min(self):\n",
    "        pass\n",
    "    \n",
    "    def max(self):\n",
    "        pass\n",
    "    \n",
    "    def find(self, value):\n",
    "        # Return -1 if didn't find, else return the relevant Node instance\n",
    "        pass\n",
    "    \n",
    "    def path(self, value):\n",
    "        # return list of cargo until the value\n",
    "        pass"
   ]
  }
 ],
 "metadata": {
  "kernelspec": {
   "display_name": "Python 3",
   "language": "python",
   "name": "python3"
  },
  "language_info": {
   "codemirror_mode": {
    "name": "ipython",
    "version": 3
   },
   "file_extension": ".py",
   "mimetype": "text/x-python",
   "name": "python",
   "nbconvert_exporter": "python",
   "pygments_lexer": "ipython3",
   "version": "3.8.1"
  }
 },
 "nbformat": 4,
 "nbformat_minor": 4
}
