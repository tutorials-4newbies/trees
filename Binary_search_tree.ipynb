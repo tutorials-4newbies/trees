{
 "cells": [
  {
   "cell_type": "markdown",
   "metadata": {},
   "source": [
    "## Binary tree\n",
    "\n",
    "> Binary Search Tree is a node-based binary tree data structure which has the following properties:  \n",
    "> * The left subtree of a node contains only nodes with keys lesser than the node’s key.\n",
    "> * The right subtree of a node contains only nodes with keys greater than the node’s key.\n",
    "> * The left and right subtree each must also be a binary search tree. \n",
    "> * There must be no duplicate nodes. \n",
    "> from [wikipedia](https://en.wikipedia.org/wiki/Binary_search_tree)\n",
    "\n",
    "![](https://media.geeksforgeeks.org/wp-content/uploads/BSTSearch.png)"
   ]
  },
  {
   "cell_type": "code",
   "execution_count": null,
   "metadata": {},
   "outputs": [],
   "source": [
    "class Node:\n",
    "    def __init__(self,  cargo: int, left = None, right = None):\n",
    "        self.cargo = cargo\n",
    "        self.right = right\n",
    "        self.left = left\n",
    "    def print(self):\n",
    "        # Implement printing in order\n",
    "        pass"
   ]
  },
  {
   "cell_type": "code",
   "execution_count": null,
   "metadata": {},
   "outputs": [],
   "source": [
    "# Implementing tree insert\n",
    "\n",
    "class Node:\n",
    "    def __init__(self,  cargo: int, left = None, right = None):\n",
    "        self.cargo = cargo\n",
    "        self.right = right\n",
    "        self.left = left\n",
    "    \n",
    "    def print(self):\n",
    "        pass\n",
    "        \n",
    "    def insert(self, cargo):\n",
    "        if cargo > self.cargo:\n",
    "            if not self.right:\n",
    "                self.right = Node(cargo)\n",
    "            else:\n",
    "                self.right.insert(cargo)\n",
    "        elif cargo < self.cargo:\n",
    "            if not self.left:\n",
    "                self.left = Node(cargo)\n",
    "    \n",
    "tree = Node(5)\n",
    "tree.insert(3)\n",
    "tree.insert(1)\n",
    "tree.insert(9)\n",
    "\n",
    "assert tree.left.left.cargo == 3\n",
    "assert tree.right.cargo == 9"
   ]
  },
  {
   "cell_type": "code",
   "execution_count": 3,
   "metadata": {},
   "outputs": [],
   "source": [
    "# Max - \n",
    "# Hint : for a binary search tree - max is always on one side .. \n",
    "class Node:\n",
    "    def __init__(self,  cargo: int, left = None, right = None):\n",
    "        self.cargo = cargo\n",
    "        self.right = right\n",
    "        self.left = left\n",
    "        \n",
    "    def insert(self, cargo):\n",
    "        pass\n",
    "        \n",
    "    def max(self):\n",
    "        pass"
   ]
  },
  {
   "cell_type": "code",
   "execution_count": null,
   "metadata": {},
   "outputs": [],
   "source": [
    "# Hints here: https://www.geeksforgeeks.org/binary-search-tree-set-1-search-and-insertion/"
   ]
  },
  {
   "cell_type": "code",
   "execution_count": 4,
   "metadata": {},
   "outputs": [],
   "source": [
    "# Min\n",
    "# Hint : for a binary search tree - min is always on one side .. \n",
    "\n",
    "class Node:\n",
    "    def __init__(self,  cargo: int, left = None, right = None):\n",
    "        self.cargo = cargo\n",
    "        self.right = right\n",
    "        self.left = left\n",
    "        \n",
    "    def insert(self, cargo):\n",
    "        pass\n",
    "        \n",
    "    def min(self):\n",
    "        pass\n",
    "    \n",
    "tree = Node(8, Node(3, Node(1), Node(6, Node(4))))"
   ]
  },
  {
   "cell_type": "code",
   "execution_count": null,
   "metadata": {},
   "outputs": [],
   "source": [
    "# Implementing find\n",
    "\n",
    "class Node:\n",
    "    def __init__(self,  cargo: int, left = None, right = None):\n",
    "        self.cargo = cargo\n",
    "        self.right = right\n",
    "        self.left = left\n",
    "        \n",
    "    def insert(self, cargo):\n",
    "        pass\n",
    "    \n",
    "    def print(self):\n",
    "        pass\n",
    "        \n",
    "    def min(self):\n",
    "        pass\n",
    "    \n",
    "    def max(self):\n",
    "        pass\n",
    "    \n",
    "    def find(self, value):\n",
    "        # Return -1 if didn't find, else return the relevant Node instance\n",
    "        pass\n",
    "    \n",
    "# What is the complexity of find in a tree? max O(h) what is h? \n"
   ]
  },
  {
   "cell_type": "code",
   "execution_count": null,
   "metadata": {},
   "outputs": [],
   "source": [
    "# Finding a path from root to node\n",
    "# If no node with value is found then return empty [] ,else return the node values from root to the node\n",
    "\n",
    "class Node:\n",
    "    def __init__(self,  cargo: int, left = None, right = None):\n",
    "        self.cargo = cargo\n",
    "        self.right = right\n",
    "        self.left = left\n",
    "        \n",
    "    def insert(self, cargo):\n",
    "        pass\n",
    "    \n",
    "    def print(self):\n",
    "        pass\n",
    "        \n",
    "    def min(self):\n",
    "        pass\n",
    "    \n",
    "    def max(self):\n",
    "        pass\n",
    "    \n",
    "    def find(self, value):\n",
    "        # Return -1 if didn't find, else return the relevant Node instance\n",
    "        pass\n",
    "    \n",
    "    def path(self, value):\n",
    "        pass"
   ]
  },
  {
   "cell_type": "markdown",
   "metadata": {},
   "source": [
    "### Implementing tree delete\n",
    "\n",
    "Delete is trickier then the rest\n",
    "* if the node is a *leaf* (no children) - we can just remove it\n",
    "* if it has only one child, then the child replaces ot\n"
   ]
  },
  {
   "cell_type": "code",
   "execution_count": null,
   "metadata": {},
   "outputs": [],
   "source": []
  },
  {
   "cell_type": "markdown",
   "metadata": {},
   "source": [
    "### Implementing tree delete - two children scenario\n",
    "\n",
    "* if it has two children, we need to get the nearest children from one side (doesn't really matter which, as long as we are consistent) and then remove it\n",
    "\n",
    "see [example](https://www.geeksforgeeks.org/binary-search-tree-set-2-delete/)"
   ]
  },
  {
   "cell_type": "markdown",
   "metadata": {},
   "source": [
    "## Finding lowest common ancestor (LCA)\n",
    "\n",
    "* find the paths to the two nodes\n",
    "* if one is missing the abort with -1\n",
    "* if exist iterate over the path, until it diverges"
   ]
  },
  {
   "cell_type": "code",
   "execution_count": null,
   "metadata": {},
   "outputs": [],
   "source": []
  },
  {
   "cell_type": "markdown",
   "metadata": {},
   "source": [
    "## Finding distance between to nodes\n",
    "\n",
    "* root-node1 distance + root-node2 distance - 2 * root-lca distance"
   ]
  }
 ],
 "metadata": {
  "kernelspec": {
   "display_name": "Python 3",
   "language": "python",
   "name": "python3"
  },
  "language_info": {
   "codemirror_mode": {
    "name": "ipython",
    "version": 3
   },
   "file_extension": ".py",
   "mimetype": "text/x-python",
   "name": "python",
   "nbconvert_exporter": "python",
   "pygments_lexer": "ipython3",
   "version": "3.8.1"
  }
 },
 "nbformat": 4,
 "nbformat_minor": 4
}
