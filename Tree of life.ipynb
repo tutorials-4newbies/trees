{
 "cells": [
  {
   "cell_type": "code",
   "execution_count": null,
   "metadata": {},
   "outputs": [],
   "source": [
    "# מחלקת היונקים\n",
    "categories = [{\"name\":\"יונקים\",\"parent\":None},\n",
    "              {\"name\":\"ביבאים\": \"parent\":\"יונקים\"},\n",
    "              {\"name\":\"שלייתנים\",\"parent\":\"יונקים\"},\n",
    "              {\"name\":\"כיסאים\", \"parent\":\"שלייתנים\"},\n",
    "              {\"name\":\"אפרותריה\", \"parent\":\"שלייתנים\"},\n",
    "             {\"name\":\"פילים\", \"parent\":\"אפרותריה\"},\n",
    "             {\"name\":\"תחשאים\", \"parent\":\"אפרותריה\"},\n",
    "             {\"name\":\"אוכלי חרקים\", \"parent\":\"לאוראסייתריה\"},\n",
    "             {\"name\":\"חפרפרתיים\", \"parent\":\"אוכלי חרקים\"},\n",
    "              {\"name\":\"קיפודיים\", \"parent\":\"אוכלי חרקים\"},\n",
    "             ]"
   ]
  },
  {
   "cell_type": "code",
   "execution_count": null,
   "metadata": {},
   "outputs": [],
   "source": [
    "# load the tree of life"
   ]
  },
  {
   "cell_type": "code",
   "execution_count": null,
   "metadata": {},
   "outputs": [],
   "source": [
    "# for a pair - find if parent"
   ]
  },
  {
   "cell_type": "code",
   "execution_count": null,
   "metadata": {},
   "outputs": [],
   "source": [
    "# the is the distance between X and Y"
   ]
  },
  {
   "cell_type": "code",
   "execution_count": null,
   "metadata": {},
   "outputs": [],
   "source": [
    "# Adding a whole tree\n",
    "\n",
    "a_missing_branch = [\n",
    "    \n",
    "    {\"name\":\"עטלפים\", \"parent\",\"לאוראסייתריה\"},\n",
    "]"
   ]
  },
  {
   "cell_type": "code",
   "execution_count": null,
   "metadata": {},
   "outputs": [],
   "source": [
    "# Finding out if a branch is extinct"
   ]
  }
 ],
 "metadata": {
  "kernelspec": {
   "display_name": "Python 3",
   "language": "python",
   "name": "python3"
  },
  "language_info": {
   "codemirror_mode": {
    "name": "ipython",
    "version": 3
   },
   "file_extension": ".py",
   "mimetype": "text/x-python",
   "name": "python",
   "nbconvert_exporter": "python",
   "pygments_lexer": "ipython3",
   "version": "3.8.1"
  }
 },
 "nbformat": 4,
 "nbformat_minor": 4
}
