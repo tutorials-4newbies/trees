{
 "cells": [
  {
   "cell_type": "code",
   "execution_count": null,
   "metadata": {},
   "outputs": [],
   "source": [
    "class Node:\n",
    "    def __init__(self,  cargo: int, left = None, right = None):\n",
    "        self.cargo = cargo\n",
    "        self.right = right\n",
    "        self.left = left\n",
    "        \n",
    "    def insert(self, cargo):\n",
    "        if cargo < self.cargo:\n",
    "            if self.left:\n",
    "                self.left.insert(cargo)\n",
    "            else:\n",
    "                self.left = Node(cargo)\n",
    "        elif cargo > self.cargo:\n",
    "            if self.right:\n",
    "                self.right.insert(cargo)\n",
    "            else:\n",
    "                self.right = Node(cargo)\n",
    "        \n",
    "    def max(self):\n",
    "        # Without using the python max function\n",
    "        if self.right:\n",
    "            return self.right.max()\n",
    "        else:\n",
    "            return self.cargo\n",
    "    \n",
    "    def min(self):\n",
    "        # Without using the python min function\n",
    "        if self.left:\n",
    "            return self.left.min()\n",
    "        else:\n",
    "            return self.cargo"
   ]
  },
  {
   "cell_type": "code",
   "execution_count": null,
   "metadata": {},
   "outputs": [],
   "source": [
    "def tree_count(tree:BinaryTree):\n",
    "    # return the number of nodes (including leafs) including the root Node\n",
    "    if not tree:\n",
    "        return 0\n",
    "    total = 1\n",
    "    \n",
    "    total = total +tree_count(tree.left)\n",
    "    \n",
    "    total= total + tree_count(tree.right)\n",
    "    return total"
   ]
  },
  {
   "cell_type": "code",
   "execution_count": null,
   "metadata": {},
   "outputs": [],
   "source": [
    "# Implementing == מימוש a General tree\n",
    "\n",
    "class TreeWithChildren:\n",
    "    def __init__(self, cargo: int):\n",
    "        self.cargo = cargo\n",
    "        self.children = []\n",
    "        \n",
    "    def add_child(self, child):\n",
    "        self.children.append(child)\n",
    "        \n",
    "    def __repr__(self):\n",
    "        return f'tree with cargo {self.cargo} and {len(self.children)} children'\n",
    "        \n",
    "    def count(self):\n",
    "        \"\"\"\n",
    "        Return the count of nodes and leafs in the tree including the root\n",
    "        \"\"\"\n",
    "        return 1 + sum([child.count() for child in self.children])\n",
    "    \n",
    "    def sum_tree(self):\n",
    "        \"\"\"\n",
    "        Return the sum! of all the cargo in tree\n",
    "        \"\"\"\n",
    "        return self.cargo + sum([child.sum_tree() for child in self.children])"
   ]
  }
 ],
 "metadata": {
  "kernelspec": {
   "display_name": "Python 3",
   "language": "python",
   "name": "python3"
  },
  "language_info": {
   "codemirror_mode": {
    "name": "ipython",
    "version": 3
   },
   "file_extension": ".py",
   "mimetype": "text/x-python",
   "name": "python",
   "nbconvert_exporter": "python",
   "pygments_lexer": "ipython3",
   "version": "3.8.1"
  }
 },
 "nbformat": 4,
 "nbformat_minor": 4
}
