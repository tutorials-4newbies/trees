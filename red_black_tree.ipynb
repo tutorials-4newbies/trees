{
 "cells": [
  {
   "cell_type": "markdown",
   "metadata": {},
   "source": [
    "# Red Black trees and Avl trees\n",
    "\n",
    "[theory](https://en.wikipedia.org/wiki/Red%E2%80%93black_tree)\n",
    "\n",
    ">In addition to the requirements imposed on a binary search tree the following must be satisfied by a red–black tree:[18]\n",
    "> 1. Each node is either red or black.\n",
    "> 2. All leaves (NIL in the figure 1) are considered black.\n",
    "> 3. If a node is red, then both its children are black.\n",
    "> 4. Every path from a given node to any of its descendant NIL leaves goes through the same number of black nodes."
   ]
  },
  {
   "cell_type": "markdown",
   "metadata": {},
   "source": [
    "## Read more\n",
    "\n",
    "https://medium.com/@donovan.adams/lets-paint-the-town-red-or-black-a-simple-introduction-to-red-black-trees-in-python-1e9faa34b31e\n",
    "\n",
    "https://algorithmtutor.com/Data-Structures/Tree/Red-Black-Trees/\n",
    "\n",
    "https://www.programiz.com/dsa/red-black-tree\n",
    "\n",
    "https://www.geeksforgeeks.org/avl-tree-set-1-insertion/\n"
   ]
  }
 ],
 "metadata": {
  "kernelspec": {
   "display_name": "Python 3",
   "language": "python",
   "name": "python3"
  },
  "language_info": {
   "codemirror_mode": {
    "name": "ipython",
    "version": 3
   },
   "file_extension": ".py",
   "mimetype": "text/x-python",
   "name": "python",
   "nbconvert_exporter": "python",
   "pygments_lexer": "ipython3",
   "version": "3.8.1"
  }
 },
 "nbformat": 4,
 "nbformat_minor": 4
}
