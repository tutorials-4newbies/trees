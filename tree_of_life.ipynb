{
 "cells": [
  {
   "cell_type": "code",
   "execution_count": null,
   "metadata": {},
   "outputs": [],
   "source": [
    "# מחלקת היונקים\n",
    "categories = [{\"name\":\"יונקים\",\"parent\":None},\n",
    "              {\"name\":\"ביבאים\": \"parent\":\"יונקים\"},\n",
    "              {\"name\":\"שלייתנים\",\"parent\":\"יונקים\"},\n",
    "              {\"name\":\"כיסאים\", \"parent\":\"שלייתנים\"},\n",
    "              {\"name\":\"אפרותריה\", \"parent\":\"שלייתנים\"},\n",
    "             {\"name\":\"פילים\", \"parent\":\"אפרותריה\"},\n",
    "             {\"name\":\"תחשאים\", \"parent\":\"אפרותריה\"},\n",
    "             {\"name\":\"אוכלי חרקים\", \"parent\":\"לאוראסייתריה\"},\n",
    "              {\"name\":\"פנגולינאים\", \"parent\":\"לאוראסייתריה\"},\n",
    "             {\"name\":\"חפרפרתיים\", \"parent\":\"אוכלי חרקים\"},\n",
    "              {\"name\":\"קיפודיים\", \"parent\":\"אוכלי חרקים\"},\n",
    "              {\"name\":\"שפנאים\", \"parent\":\"אפרותריה\"},\n",
    "              {\"name\":\"דסמוסטיליים\", \"parent\":\"אפרותריה\", is_extinct=True}\n",
    "\n",
    "              \n",
    "             ]"
   ]
  },
  {
   "cell_type": "code",
   "execution_count": null,
   "metadata": {},
   "outputs": [],
   "source": [
    "\n",
    "\n",
    "class TreeOfLife:\n",
    "    def __init__(self):\n",
    "        pass\n",
    "    \n",
    "    def add_branch(self, what_would, be_here):\n",
    "        pass\n",
    "    \n",
    "    def is_descendant_from(self, child_name, optional_ancestor):\n",
    "        pass\n",
    "    \n",
    "    def distance_between(self, one_branch, second_branch):\n",
    "        pass"
   ]
  },
  {
   "cell_type": "code",
   "execution_count": null,
   "metadata": {},
   "outputs": [],
   "source": [
    "# load the tree of life for the "
   ]
  },
  {
   "cell_type": "code",
   "execution_count": null,
   "metadata": {},
   "outputs": [],
   "source": [
    "# for a pair of a child and potential ancestor find if ancestor"
   ]
  },
  {
   "cell_type": "code",
   "execution_count": null,
   "metadata": {},
   "outputs": [],
   "source": [
    "# What is the distance between X and Y"
   ]
  },
  {
   "cell_type": "code",
   "execution_count": null,
   "metadata": {},
   "outputs": [],
   "source": [
    "# Adding a whole tree\n",
    "\n",
    "a_missing_branch = [\n",
    "    \n",
    "    {\"name\":\"עטלפים\", \"parent\",\"לאוראסייתריה\"},\n",
    "    {\"name\":\"עטלפי הפירות\", \"parent\":\"עטלפים\"},\n",
    "    {\"name\":\"עטלפי פרי\", \"parent\":\"עטלפי הפירות\"},\n",
    "    {\"name\":\"עטלפי החרקים\", \"parent\":\"עטלפים\"},\n",
    "    {\"name\":\"עטלפי דבורה\", \"parent\":\"עטלפי החרקים\"},\n",
    "    {\"name\":\"ערפדים מדומים\", \"parent\":\"עטלפי החרקים\"},\n",
    "\n",
    "\n",
    "]"
   ]
  },
  {
   "cell_type": "markdown",
   "metadata": {},
   "source": [
    "![bats](./imgs/mexican_bats.jpg)"
   ]
  },
  {
   "cell_type": "code",
   "execution_count": null,
   "metadata": {},
   "outputs": [],
   "source": [
    "# Building Extinctathon\n",
    "\n",
    "class TreeOfLife:\n",
    "    def __init__(self):\n",
    "        pass\n",
    "    \n",
    "    def add_branch(self, what_would, be_here):\n",
    "        pass\n",
    "    \n",
    "    def is_descendant_from(self, child_name:str, optional_ancestor:str):\n",
    "        pass\n",
    "    \n",
    "    def distance_between(self, one_branch:str, second_branch:str):\n",
    "        pass\n",
    "    \n",
    "    def count_extinct_by_branch(self, branch_name:str):\n",
    "        pass\n",
    "    \n",
    "    def extinct_branch(self, branch_name:str):\n",
    "        pass\n",
    "        "
   ]
  }
 ],
 "metadata": {
  "kernelspec": {
   "display_name": "Python 3",
   "language": "python",
   "name": "python3"
  },
  "language_info": {
   "codemirror_mode": {
    "name": "ipython",
    "version": 3
   },
   "file_extension": ".py",
   "mimetype": "text/x-python",
   "name": "python",
   "nbconvert_exporter": "python",
   "pygments_lexer": "ipython3",
   "version": "3.8.1"
  }
 },
 "nbformat": 4,
 "nbformat_minor": 4
}
