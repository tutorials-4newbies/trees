{
 "cells": [
  {
   "cell_type": "markdown",
   "metadata": {},
   "source": [
    "# Trees\n",
    "![A basic tree](https://miro.medium.com/max/389/1*wnNk7Puko8iw80KNM1KfDg.png)"
   ]
  },
  {
   "cell_type": "markdown",
   "metadata": {},
   "source": [
    "## The lingo\n",
    "\n",
    "![A full tree lingo](https://miro.medium.com/max/1000/1*YMqkwxqb1KhEAkwymNFnbA.png)"
   ]
  },
  {
   "cell_type": "code",
   "execution_count": null,
   "metadata": {},
   "outputs": [],
   "source": [
    "# Implementing a Binary tree\n",
    "class Tree:\n",
    "    def __init__(self):\n",
    "        \"\"\"\n",
    "        left, right, cargo\n",
    "        what are the types?\n",
    "        \"\"\"\n",
    "        pass\n",
    "    "
   ]
  },
  {
   "cell_type": "code",
   "execution_count": null,
   "metadata": {},
   "outputs": [],
   "source": [
    "# Add to the tree\n",
    "\n",
    "# Counting leafs\n",
    "\n",
    "# Summing the cargo of the tree\n",
    "\n",
    "# Finding the distance between leafs\n",
    "\n",
    "# Finding the max height of the tree\n",
    "\n",
    "# Given a specific leaf calculate the cargo of all parents chain until root\n"
   ]
  },
  {
   "cell_type": "code",
   "execution_count": null,
   "metadata": {},
   "outputs": [],
   "source": [
    "# Implementing a General tree\n",
    "class TreeWithChildren:\n",
    "    def __init__(self):\n",
    "        pass\n"
   ]
  },
  {
   "cell_type": "markdown",
   "metadata": {},
   "source": [
    "## But why is it called a tree? does it look like a tree?\n",
    "\n",
    "![tree](https://miro.medium.com/max/700/0*hd2Ib9nYpedgSDsf)"
   ]
  },
  {
   "cell_type": "markdown",
   "metadata": {},
   "source": [
    "## Read more \n",
    "\n",
    "[trees algos](https://bradfieldcs.com/algos/trees/introduction/)\n",
    "\n",
    "[binary tree](https://www.tutorialspoint.com/python_data_structure/python_binary_tree.htm)\n",
    "\n",
    "[Thinking like a computer scientist - trees chapter](https://www.openbookproject.net/thinkcs/python/english2e/ch21.html)\n",
    "\n",
    "[Another binary tree](https://www.geeksforgeeks.org/tag/binary-tree/)\n",
    "\n",
    "[binary tree set](https://www.geeksforgeeks.org/binary-tree-set-3-types-of-binary-tree/)\n"
   ]
  }
 ],
 "metadata": {
  "kernelspec": {
   "display_name": "Python 3",
   "language": "python",
   "name": "python3"
  },
  "language_info": {
   "codemirror_mode": {
    "name": "ipython",
    "version": 3
   },
   "file_extension": ".py",
   "mimetype": "text/x-python",
   "name": "python",
   "nbconvert_exporter": "python",
   "pygments_lexer": "ipython3",
   "version": "3.8.1"
  }
 },
 "nbformat": 4,
 "nbformat_minor": 4
}
