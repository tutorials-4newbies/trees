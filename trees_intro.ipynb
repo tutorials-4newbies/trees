{
 "cells": [
  {
   "cell_type": "markdown",
   "metadata": {},
   "source": [
    "# Trees\n",
    "![A basic tree](https://miro.medium.com/max/389/1*wnNk7Puko8iw80KNM1KfDg.png)\n",
    "\n",
    "hierarchical data structure - who have a concept of parents and children. "
   ]
  },
  {
   "cell_type": "markdown",
   "metadata": {},
   "source": [
    "## The lingo\n",
    "\n",
    "![A full tree lingo](https://miro.medium.com/max/1000/1*YMqkwxqb1KhEAkwymNFnbA.png)"
   ]
  },
  {
   "cell_type": "markdown",
   "metadata": {},
   "source": [
    "Definition:\n",
    "-------------\n",
    ">A tree consists of a set of nodes and a set of edges that connect pairs of nodes. A tree has the following properties:\n",
    "\n",
    ">One node of the tree is designated as the root node.\n",
    ">Every node nn, except the root node, is connected by an edge from exactly one other node pp, where pp is the parent of nn.\n",
    ">A unique path traverses from the root to each node.\n",
    ">If each node in the tree has a maximum of two children, we say that the tree is a binary tree.\n",
    "\n",
    "[Taken from](https://bradfieldcs.com/algos/trees/introduction/)\n",
    "\n",
    "## Discussion: Recursive definition of a tree"
   ]
  },
  {
   "cell_type": "markdown",
   "metadata": {},
   "source": [
    "# So what can we represent by a tree\n",
    "\n",
    "* Html [pages](http://web.simmons.edu/~grabiner/comm244/weekfour/document-tree.html)?\n",
    "* Knowledge and [taxonomy](https://www.greennature.ca/greennature/taxonomy/tree_of_life.png)? \n",
    "* Families and [dynasties](https://en.wikipedia.org/wiki/House_of_Bourbon#:~:text=Bourbon%20kings%20first%20ruled%20France,of%20the%20House%20of%20Bourbon.)? \n",
    "* Nested permissions"
   ]
  },
  {
   "cell_type": "code",
   "execution_count": null,
   "metadata": {},
   "outputs": [],
   "source": [
    "# Naive (but usefull) representation of trees by code\n",
    "# How would we impelemnt a tree with the data structures we know? dicts, lists etc?"
   ]
  },
  {
   "cell_type": "code",
   "execution_count": 27,
   "metadata": {},
   "outputs": [],
   "source": [
    "# Implementing a Binary tree\n",
    "class BinaryTree:\n",
    "    def __init__(self, cargo: int, left = None, right = None):\n",
    "        \"\"\"\n",
    "        left, right, cargo\n",
    "        what are the types?\n",
    "        \"\"\"\n",
    "        self.cargo = cargo\n",
    "        self.left = left\n",
    "        self.right = right\n",
    "        \n",
    "    def count(self):\n",
    "        total = 1\n",
    "        if self.left:\n",
    "            total = total + self.left.count()\n",
    "        if self.right:\n",
    "            total = total + self.right.count()\n",
    "        \n",
    "        return total\n",
    "\n",
    "first = BinaryTree(5)\n"
   ]
  },
  {
   "cell_type": "code",
   "execution_count": 28,
   "metadata": {},
   "outputs": [
    {
     "data": {
      "text/plain": [
       "5"
      ]
     },
     "execution_count": 28,
     "metadata": {},
     "output_type": "execute_result"
    }
   ],
   "source": [
    "left = BinaryTree(3, left=BinaryTree(1))\n",
    "right = BinaryTree(9, left=BinaryTree(7))\n",
    "\n",
    "first = BinaryTree(5, left=left, right=right)\n",
    "first.count()"
   ]
  },
  {
   "cell_type": "code",
   "execution_count": 23,
   "metadata": {},
   "outputs": [],
   "source": [
    "def tree_count(tree:BinaryTree):\n",
    "    # return the number of nodes (including leafs) including the root Node\n",
    "    if not tree:\n",
    "        return 0\n",
    "    total = 1\n",
    "    \n",
    "    total = total +tree_count(tree.left)\n",
    "    \n",
    "    total= total + tree_count(tree.right)\n",
    "    return total\n",
    "    "
   ]
  },
  {
   "cell_type": "code",
   "execution_count": 24,
   "metadata": {},
   "outputs": [
    {
     "data": {
      "text/plain": [
       "5"
      ]
     },
     "execution_count": 24,
     "metadata": {},
     "output_type": "execute_result"
    }
   ],
   "source": [
    "tree_count(first)"
   ]
  },
  {
   "cell_type": "code",
   "execution_count": null,
   "metadata": {},
   "outputs": [],
   "source": [
    "# Inserting into the tree\n",
    "\n",
    "# Counting leafs\n",
    "\n",
    "# Summing the cargo of the tree\n",
    "\n",
    "# Finding the distance between leafs\n",
    "\n",
    "# Finding the max height of the tree\n",
    "\n",
    "# Given a specific leaf calculate the cargo of all parents chain until root\n"
   ]
  },
  {
   "cell_type": "code",
   "execution_count": 40,
   "metadata": {},
   "outputs": [],
   "source": [
    "# Implementing == מימוש a General tree\n",
    "\n",
    "class TreeWithChildren:\n",
    "    def __init__(self, cargo: int):\n",
    "        self.cargo = cargo\n",
    "        self.children = []\n",
    "        \n",
    "    def add_child(self, child):\n",
    "        self.children.append(child)\n",
    "        \n",
    "    def __repr__(self):\n",
    "        return f'tree with cargo {self.cargo} and {len(self.children)} children'\n",
    "        \n",
    "    def count(self):\n",
    "        \"\"\"\n",
    "        Return the count of nodes and leafs in the tree including the root\n",
    "        \"\"\"\n",
    "        pass\n",
    "    \n",
    "    def sum_tree(self):\n",
    "        \"\"\"\n",
    "        Return the sum! of all the cargo in tree\n",
    "        \"\"\"\n",
    "        pass\n"
   ]
  },
  {
   "cell_type": "code",
   "execution_count": 42,
   "metadata": {},
   "outputs": [
    {
     "data": {
      "text/plain": [
       "[tree with cargo 12 and 0 children, tree with cargo 7 and 1 children]"
      ]
     },
     "execution_count": 42,
     "metadata": {},
     "output_type": "execute_result"
    }
   ],
   "source": [
    "tree = TreeWithChildren(cargo=5)\n",
    "first_born = TreeWithChildren(12)\n",
    "second_born = TreeWithChildren(7)\n",
    "grandson = TreeWithChildren(1)\n",
    "second_born.add_child(grandson)\n",
    "tree.add_child(first_born)\n",
    "tree.add_child(second_born)\n",
    "tree.children"
   ]
  },
  {
   "cell_type": "markdown",
   "metadata": {},
   "source": [
    "## But why is it called a tree? does it look like a tree?\n",
    "\n",
    "![tree](https://miro.medium.com/max/700/0*hd2Ib9nYpedgSDsf)"
   ]
  },
  {
   "cell_type": "markdown",
   "metadata": {},
   "source": [
    "## Read more \n",
    "\n",
    "[trees algos](https://bradfieldcs.com/algos/trees/introduction/)\n",
    "\n",
    "[binary tree](https://www.tutorialspoint.com/python_data_structure/python_binary_tree.htm)\n",
    "\n",
    "[Thinking like a computer scientist - trees chapter](https://www.openbookproject.net/thinkcs/python/english2e/ch21.html)\n",
    "\n",
    "[Another binary tree](https://www.geeksforgeeks.org/tag/binary-tree/)\n",
    "\n",
    "[binary tree set](https://www.geeksforgeeks.org/binary-tree-set-3-types-of-binary-tree/)\n"
   ]
  }
 ],
 "metadata": {
  "kernelspec": {
   "display_name": "Python 3",
   "language": "python",
   "name": "python3"
  },
  "language_info": {
   "codemirror_mode": {
    "name": "ipython",
    "version": 3
   },
   "file_extension": ".py",
   "mimetype": "text/x-python",
   "name": "python",
   "nbconvert_exporter": "python",
   "pygments_lexer": "ipython3",
   "version": "3.8.1"
  }
 },
 "nbformat": 4,
 "nbformat_minor": 4
}
