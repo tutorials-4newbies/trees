{
 "cells": [
  {
   "cell_type": "markdown",
   "metadata": {},
   "source": [
    "# Trees\n",
    "![A basic tree](https://miro.medium.com/max/389/1*wnNk7Puko8iw80KNM1KfDg.png)"
   ]
  },
  {
   "cell_type": "markdown",
   "metadata": {},
   "source": [
    "## The lingo\n",
    "\n",
    "![A full tree lingo](https://miro.medium.com/max/1000/1*YMqkwxqb1KhEAkwymNFnbA.png)"
   ]
  },
  {
   "cell_type": "markdown",
   "metadata": {},
   "source": [
    "Definition:\n",
    "-------------\n",
    ">A tree consists of a set of nodes and a set of edges that connect pairs of nodes. A tree has the following properties:\n",
    "\n",
    ">One node of the tree is designated as the root node.\n",
    ">Every node nn, except the root node, is connected by an edge from exactly one other node pp, where pp is the parent of nn.\n",
    ">A unique path traverses from the root to each node.\n",
    ">If each node in the tree has a maximum of two children, we say that the tree is a binary tree.\n",
    "\n",
    "[Taken from](https://bradfieldcs.com/algos/trees/introduction/)\n",
    "\n",
    "## Discussion: Recursive definition of a tree"
   ]
  },
  {
   "cell_type": "markdown",
   "metadata": {},
   "source": [
    "# So what can we represent by a tree\n",
    "\n",
    "* Html [pages](http://web.simmons.edu/~grabiner/comm244/weekfour/document-tree.html)?\n",
    "* Knowledge and [taxonomy](https://www.greennature.ca/greennature/taxonomy/tree_of_life.png)? \n",
    "* Families and [dynasties](https://en.wikipedia.org/wiki/House_of_Bourbon#:~:text=Bourbon%20kings%20first%20ruled%20France,of%20the%20House%20of%20Bourbon.)? \n",
    "* Nested permissions"
   ]
  },
  {
   "cell_type": "code",
   "execution_count": null,
   "metadata": {},
   "outputs": [],
   "source": [
    "# Naive (but usefull) representation of trees by code\n",
    "# How would we impelemnt a tree with the data structures we know?"
   ]
  },
  {
   "cell_type": "code",
   "execution_count": null,
   "metadata": {},
   "outputs": [],
   "source": [
    "# Implementing a Binary tree\n",
    "class BinaryTree:\n",
    "    def __init__(self):\n",
    "        \"\"\"\n",
    "        left, right, cargo\n",
    "        what are the types?\n",
    "        \"\"\"\n",
    "        pass\n",
    "    "
   ]
  },
  {
   "cell_type": "code",
   "execution_count": null,
   "metadata": {},
   "outputs": [],
   "source": [
    "# Add to the tree\n",
    "\n",
    "# Counting leafs\n",
    "\n",
    "# Summing the cargo of the tree\n",
    "\n",
    "# Finding the distance between leafs\n",
    "\n",
    "# Finding the max height of the tree\n",
    "\n",
    "# Given a specific leaf calculate the cargo of all parents chain until root\n"
   ]
  },
  {
   "cell_type": "code",
   "execution_count": null,
   "metadata": {},
   "outputs": [],
   "source": [
    "# Implementing a General tree\n",
    "class TreeWithChildren:\n",
    "    def __init__(self):\n",
    "        pass\n"
   ]
  },
  {
   "cell_type": "markdown",
   "metadata": {},
   "source": [
    "## But why is it called a tree? does it look like a tree?\n",
    "\n",
    "![tree](https://miro.medium.com/max/700/0*hd2Ib9nYpedgSDsf)"
   ]
  },
  {
   "cell_type": "markdown",
   "metadata": {},
   "source": [
    "## Read more \n",
    "\n",
    "[trees algos](https://bradfieldcs.com/algos/trees/introduction/)\n",
    "\n",
    "[binary tree](https://www.tutorialspoint.com/python_data_structure/python_binary_tree.htm)\n",
    "\n",
    "[Thinking like a computer scientist - trees chapter](https://www.openbookproject.net/thinkcs/python/english2e/ch21.html)\n",
    "\n",
    "[Another binary tree](https://www.geeksforgeeks.org/tag/binary-tree/)\n",
    "\n",
    "[binary tree set](https://www.geeksforgeeks.org/binary-tree-set-3-types-of-binary-tree/)\n"
   ]
  }
 ],
 "metadata": {
  "kernelspec": {
   "display_name": "Python 3",
   "language": "python",
   "name": "python3"
  },
  "language_info": {
   "codemirror_mode": {
    "name": "ipython",
    "version": 3
   },
   "file_extension": ".py",
   "mimetype": "text/x-python",
   "name": "python",
   "nbconvert_exporter": "python",
   "pygments_lexer": "ipython3",
   "version": "3.8.1"
  }
 },
 "nbformat": 4,
 "nbformat_minor": 4
}
